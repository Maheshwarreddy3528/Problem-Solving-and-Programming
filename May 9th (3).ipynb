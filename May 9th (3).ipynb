{
 "cells": [
  {
   "cell_type": "markdown",
   "metadata": {},
   "source": [
    "# Problem Solving and Programming\n",
    "## Day No-6\n",
    "## Date-9/5/19\n",
    "## Day outcomes\n",
    "1.Practicing Python Syntax in the Interactive Shell Print Function - print() Variable Assignment(Single Variable, Multiple Variables) Getting the Data Types using type() String Slicing Lists Tuples Dictionaries Reading input from user 2.Jupyter Notebooks Overview, Architecture Standard Template Markdown Syntax 3.Problem Set Data Processing\n",
    "\n",
    "# Problem 1:\n",
    "## Problem Statement\n",
    "Determining whether a number is Even or Odd\n"
   ]
  },
  {
   "cell_type": "code",
   "execution_count": 81,
   "metadata": {},
   "outputs": [
    {
     "name": "stdout",
     "output_type": "stream",
     "text": [
      "enter no:5\n",
      "odd\n"
     ]
    }
   ],
   "source": [
    "n=int(input(\"enter no:\"))\n",
    "if(n% 2 == 0):\n",
    "    print(\"even\")\n",
    "else:\n",
    "    print(\"odd\")\n",
    "\n"
   ]
  },
  {
   "cell_type": "markdown",
   "metadata": {},
   "source": [
    "\n",
    "# Problem 2:\n",
    "Design a flowchart to evaluate the polynomial\n",
    " \n",
    "## Constraints \n",
    "the range [1, 1000]\n",
    "\n",
    "## Test Cases\n",
    " f(x)= x^3 + 2 X^2 + 3 X - 10"
   ]
  },
  {
   "cell_type": "code",
   "execution_count": 24,
   "metadata": {},
   "outputs": [
    {
     "name": "stdout",
     "output_type": "stream",
     "text": [
      "19\n",
      "3\n"
     ]
    }
   ],
   "source": [
    "def poly(n):\n",
    "    res=(n^3) + (2*n^2) + (3*n - 10)\n",
    "    return res\n",
    "print(poly(4))\n",
    "print(poly(2))"
   ]
  },
  {
   "cell_type": "markdown",
   "metadata": {},
   "source": [
    "# Problem 3:\n",
    "## Problem Statement\n",
    "Given 2 int values, return True if one is negative and one is positive. Except if the parameter \"negative\" is True, then return True only if both are negative.\n",
    "\n",
    "## Contraints\n",
    "let a be a positive or negative number\n",
    "let b be a positive or negative number\n",
    "let third parameter be a Boolean value\n",
    "\n",
    "## Test Cases\n",
    "pos_neg(1, -1, False) → True\n",
    "pos_neg(-1, 1, False) → True\n",
    "pos_neg(-4, -5, True) → True"
   ]
  },
  {
   "cell_type": "code",
   "execution_count": 19,
   "metadata": {},
   "outputs": [
    {
     "name": "stdout",
     "output_type": "stream",
     "text": [
      "True\n",
      "True\n",
      "True\n"
     ]
    }
   ],
   "source": [
    "def pos_neg(n1,n2,b):\n",
    "    if(n1<0 and n2>0 and b==False) or (n1>0 and n2<0 and b==False) or (n1<0 and n2<0 and b==True):\n",
    "        return True\n",
    "    else:\n",
    "        return False\n",
    "    \n",
    "print(pos_neg(1, -1, False))\n",
    "print(pos_neg(-1, 1, False))\n",
    "print(pos_neg(-4, -5, True))"
   ]
  },
  {
   "cell_type": "markdown",
   "metadata": {},
   "source": [
    "# Problem 4:\n",
    "## Problem Statement\n",
    "Given 2 ints, a and b, return True if one if them is 10 or if their sum is 10.\n",
    "\n",
    "## Contraints\n",
    "range of[1,1000]\n",
    "\n",
    "## Test Cases\n",
    "makes10(9, 10) → True\n",
    "makes10(9, 9) → False\n",
    "makes10(1, 9) → True"
   ]
  },
  {
   "cell_type": "code",
   "execution_count": 39,
   "metadata": {},
   "outputs": [
    {
     "name": "stdout",
     "output_type": "stream",
     "text": [
      "True\n",
      "False\n",
      "True\n"
     ]
    }
   ],
   "source": [
    "def makes10(a,b):\n",
    "    if(a==10 or b==10 or a+b ==10 ):\n",
    "        return True\n",
    "    else:\n",
    "        return False \n",
    "\n",
    "print(makes10(9, 10))\n",
    "print(makes10(9, 9))\n",
    "print(makes10(1, 9))"
   ]
  },
  {
   "cell_type": "markdown",
   "metadata": {},
   "source": [
    "# Problem 5:\n",
    "## Problem Statement\n",
    "Create a Random Number Generator as a Procedure which takes \n",
    "\n",
    "## Contraints\n",
    "the Range(lb, ub) \n",
    "\n",
    "## Test Cases\n",
    "RandomGenerator(1,101) -> will be in range (1, 101)"
   ]
  },
  {
   "cell_type": "code",
   "execution_count": 46,
   "metadata": {},
   "outputs": [
    {
     "data": {
      "text/plain": [
       "59"
      ]
     },
     "execution_count": 46,
     "metadata": {},
     "output_type": "execute_result"
    }
   ],
   "source": [
    "import random\n",
    "def ran(lb,ub):\n",
    "    return random.randrange(lb+1,ub)\n",
    "ran(1,101)"
   ]
  },
  {
   "cell_type": "code",
   "execution_count": 43,
   "metadata": {},
   "outputs": [
    {
     "data": {
      "text/plain": [
       "624272659"
      ]
     },
     "execution_count": 43,
     "metadata": {},
     "output_type": "execute_result"
    }
   ],
   "source": [
    "import random\n",
    "\n",
    "def randomGenerator(n, lb, ub):\n",
    "    sum = 0\n",
    "    for count in range(1, n+1):\n",
    "        sum = sum + random.randint(lb, ub)\n",
    "    return sum\n",
    "    \n",
    "randomGenerator(1,1000000,1000000000)"
   ]
  },
  {
   "cell_type": "markdown",
   "metadata": {},
   "source": [
    "# Problem 6:\n",
    "## Problem Statement\n",
    "Given an int n, return True if it is within 10 of 100 or 200. Note: abs(num) computes the absolute value of a number.\n",
    "\n",
    "## Constraints\n",
    "\n",
    "## Test Cases\n",
    "near_hundred(93) → True\n",
    "near_hundred(90) → True\n",
    "near_hundred(89) → False"
   ]
  },
  {
   "cell_type": "code",
   "execution_count": 40,
   "metadata": {},
   "outputs": [
    {
     "name": "stdout",
     "output_type": "stream",
     "text": [
      "True\n",
      "True\n",
      "False\n"
     ]
    }
   ],
   "source": [
    "def near_hundred(n):\n",
    "    return(n>=90 and n<=110 or n>=190 and n<=210)\n",
    "print(near_hundred(93))\n",
    "print(near_hundred(90))\n",
    "print(near_hundred(89))"
   ]
  },
  {
   "cell_type": "markdown",
   "metadata": {},
   "source": [
    "# Problem 7:\n",
    "## Problem Statement\n",
    "Finding the greatest of 3 numbers\n",
    "\n",
    "## Constraints\n",
    "Given number wil be given in [1,1000]\n",
    "\n",
    "## Test Cases\n",
    "Test case 1 : greater(3,2,1)\n",
    "Test case 2 : greater(5,9,7)"
   ]
  },
  {
   "cell_type": "code",
   "execution_count": 47,
   "metadata": {},
   "outputs": [
    {
     "name": "stdout",
     "output_type": "stream",
     "text": [
      "a is greater\n",
      "b is greater\n"
     ]
    }
   ],
   "source": [
    "def greater(a,b,c):\n",
    "    if a>b and a>c:\n",
    "        return \"a is greater\"\n",
    "    elif b>a and b>c:\n",
    "        return \"b is greater\"\n",
    "    else:\n",
    "        return \"c is greater\"\n",
    "print(greater(3,2,1))   \n",
    "print(greater(5,9,7))"
   ]
  },
  {
   "cell_type": "markdown",
   "metadata": {},
   "source": []
  },
  {
   "cell_type": "markdown",
   "metadata": {},
   "source": [
    "# Problem 8 :\n",
    "## Problem Statement\n",
    "Design a procedure to perform Linear search on list of N unsorted unique numbers. It take an array and the key element to be searched and returns the index of the element of key element if found. Else returns -1\n",
    "\n",
    "## Constraints\n",
    "\n",
    "## Test Cases\n",
    "linearSearch( [1,4,8,0,3,5,6], 3) -> 4\n",
    "linearSearch( [15, 12, 9, 6, 3, -3], 0) -> -1\n",
    "linearSearch( [321, 543, 567, 789], 567) -> 2"
   ]
  },
  {
   "cell_type": "code",
   "execution_count": 79,
   "metadata": {},
   "outputs": [
    {
     "name": "stdout",
     "output_type": "stream",
     "text": [
      "-1\n",
      "2\n"
     ]
    }
   ],
   "source": [
    "def linearSearch(a, key):\n",
    "    for i in range(0, len(a)):\n",
    "        if(a[i] == key):\n",
    "            return i\n",
    "    return -1\n",
    "    \n",
    "print(linearSearch( [15, 12, 9, 6, 3, -3], 0))  \n",
    "print(linearSearch([321, 543, 567, 789], 567))"
   ]
  },
  {
   "cell_type": "markdown",
   "metadata": {},
   "source": [
    "# Problem 9:\n",
    "## Problem Statement\n",
    "Designing procedures for Basic Arithmetic operations\n",
    "\n",
    "## Constraints\n",
    "Range is[1,1000]\n",
    "\n",
    "## Test Cases\n"
   ]
  },
  {
   "cell_type": "code",
   "execution_count": 83,
   "metadata": {},
   "outputs": [
    {
     "name": "stdout",
     "output_type": "stream",
     "text": [
      "8\n",
      "2\n",
      "15\n"
     ]
    }
   ],
   "source": [
    "def add(a,b):\n",
    "    return a+b\n",
    "def sub(a,b):\n",
    "    return a-b\n",
    "def mul(a,b):\n",
    "    return a*b\n",
    "print(add(5,3))\n",
    "print(sub(5,3))\n",
    "print(mul(5,3))"
   ]
  },
  {
   "cell_type": "markdown",
   "metadata": {},
   "source": [
    "# Problem 10:\n",
    "## Problem Statement\n",
    "Procedure to print N natural numbers.\n",
    "\n",
    "## constraints\n",
    "range is [1,10000]\n",
    "\n",
    "## Test Cases\n",
    "natural(6) -> 1,2,3,4,5,6"
   ]
  },
  {
   "cell_type": "code",
   "execution_count": 105,
   "metadata": {},
   "outputs": [
    {
     "name": "stdout",
     "output_type": "stream",
     "text": [
      "1\n",
      "2\n",
      "3\n",
      "4\n",
      "5\n",
      "6\n"
     ]
    }
   ],
   "source": [
    "def natural(n):\n",
    "    for i in range (1,n):\n",
    "            print(i) \n",
    "    return n\n",
    "print(natural(6))"
   ]
  },
  {
   "cell_type": "markdown",
   "metadata": {},
   "source": [
    "# Problem 11:\n",
    "## Problem Statement\n",
    "Procedure to calculate the factorial of a given number\n",
    "\n",
    "## Constraints\n",
    "range[1,100]\n",
    "\n",
    "## Test Cases\n",
    "fact(5)-> 120\n",
    "fact(6)-> 720"
   ]
  },
  {
   "cell_type": "code",
   "execution_count": 111,
   "metadata": {},
   "outputs": [
    {
     "name": "stdout",
     "output_type": "stream",
     "text": [
      "120\n"
     ]
    }
   ],
   "source": [
    "def fact(n):\n",
    "    f=1\n",
    "    for i in range(1,n+1):\n",
    "        f=f*i\n",
    "    return f\n",
    "print(fact(5))"
   ]
  },
  {
   "cell_type": "markdown",
   "metadata": {},
   "source": [
    "# Problem 12:\n",
    "## Problem Statement\n",
    "Design a procedure to determine if a given string is a Palindrome\n",
    "\n",
    "## Constraints\n",
    "range is [1,100]\n",
    "\n",
    "## Test Cases\n",
    "Palindrome(\"racecar\") -> True\n",
    "Palindrome(\"raptor\") -> False"
   ]
  },
  {
   "cell_type": "code",
   "execution_count": 121,
   "metadata": {},
   "outputs": [
    {
     "name": "stdout",
     "output_type": "stream",
     "text": [
      "True\n",
      "False\n"
     ]
    }
   ],
   "source": [
    "def pali(string):\n",
    "    if(string==string[::-1]):\n",
    "        return(True)\n",
    "    else:\n",
    "        return(False)\n",
    "print(pali('racecar'))\n",
    "print(pali('raptor'))"
   ]
  },
  {
   "cell_type": "markdown",
   "metadata": {},
   "source": [
    "# Problem 13:\n",
    "## Problem Statement\n",
    "Procedure to generate multiplication tables. \n",
    "\n",
    "## Constraints\n",
    "range[1,1000]\n",
    "\n",
    "## Test Cases\n",
    "MT(3, 5, 7) -> 3 X 5 = 15\n",
    "\n",
    "                               3 X 6 = 18\n",
    "\n",
    "                               3 X 7 = 21\n",
    "\n",
    "                             "
   ]
  },
  {
   "cell_type": "code",
   "execution_count": 131,
   "metadata": {},
   "outputs": [
    {
     "name": "stdout",
     "output_type": "stream",
     "text": [
      "3 x 5 = 15\n",
      "3 x 6 = 18\n",
      "3 x 7 = 21\n"
     ]
    },
    {
     "data": {
      "text/plain": [
       "7"
      ]
     },
     "execution_count": 131,
     "metadata": {},
     "output_type": "execute_result"
    }
   ],
   "source": [
    "def multiplicationTable(table, lb, ub):\n",
    "    for i in range(lb, ub+1):\n",
    "        print(table, 'x', i, '=', table*i)\n",
    "    return i\n",
    "\n",
    "multiplicationTable(3, 5, 7)"
   ]
  },
  {
   "cell_type": "markdown",
   "metadata": {},
   "source": [
    "# Problem 14:\n",
    "## Problem Statement\n",
    "Procedure to print the list of factors of a given number.\n",
    "\n",
    "## Constraints\n",
    "range[1,100]\n",
    "\n",
    "## Test Cases\n",
    "FactorList(6)  ->  1 2 3 6\n",
    "\n",
    "        FactorList (9) ->   1 3 9\n",
    "\n",
    "        FactorList (19) ->  1  19"
   ]
  },
  {
   "cell_type": "code",
   "execution_count": 134,
   "metadata": {},
   "outputs": [
    {
     "name": "stdout",
     "output_type": "stream",
     "text": [
      "[1, 2, 3, 6]\n"
     ]
    }
   ],
   "source": [
    "def factorlist(n):\n",
    "    a = []\n",
    "    for i in range(1, n//2+1):\n",
    "        if n % 1 == 0:\n",
    "            a.append(i)\n",
    "    a.append(n)\n",
    "    return a\n",
    "\n",
    "print(factorlist(6))"
   ]
  },
  {
   "cell_type": "markdown",
   "metadata": {},
   "source": [
    "# Problem 15:\n",
    "## Problem Statement\n",
    "Procedure to check if a given number is Prime and returns a Boolean value.\n",
    "\n",
    "## Constraints\n",
    "range[1,100]\n",
    "\n",
    "## Test Cases\n",
    " IsPrime(7) -> True\n",
    "\n",
    "         IsPrime(9) ->  False"
   ]
  },
  {
   "cell_type": "code",
   "execution_count": 137,
   "metadata": {},
   "outputs": [
    {
     "name": "stdout",
     "output_type": "stream",
     "text": [
      "True\n",
      "False\n"
     ]
    }
   ],
   "source": [
    "def Isprime(n):\n",
    "    count = 0\n",
    "    for i in range(1,n+1):\n",
    "        if n%i==0:\n",
    "            count=count+1\n",
    "    if count==2:\n",
    "        return True\n",
    "    else:\n",
    "        return False\n",
    "print(Isprime(7))    \n",
    "print(Isprime(9))"
   ]
  },
  {
   "cell_type": "markdown",
   "metadata": {},
   "source": [
    "# Problem 16:\n",
    "## Problem Statement\n",
    " Procedure to count the number of digits in a given number.\n",
    "\n",
    "## Constraints\n",
    "range[1,100]\n",
    "\n",
    "## Test Cases\n",
    "CountDigits(123456) ->  6\n",
    "\n",
    "          CountDigits (0) ->  1"
   ]
  },
  {
   "cell_type": "code",
   "execution_count": 140,
   "metadata": {},
   "outputs": [
    {
     "name": "stdout",
     "output_type": "stream",
     "text": [
      "6\n",
      "1\n"
     ]
    }
   ],
   "source": [
    "def CountDigits(s):\n",
    "    return(len(str(s)))\n",
    "print(CountDigits(123456))\n",
    "print(CountDigits(0))"
   ]
  },
  {
   "cell_type": "markdown",
   "metadata": {},
   "source": [
    "# Problem 17:\n",
    "## Problem Statement\n",
    "Procedure to check if a given number is a Perfect Number. ( Perfect number is a number for which the sum of all it's divisors is equal to the number itself)\n",
    "\n",
    "## Constraints\n",
    "range[1,10000]\n",
    "\n",
    "## Test Cases\n",
    "  IsPerfect(3) -> False\n",
    "\n",
    "          IsPerfect (6) -> True"
   ]
  },
  {
   "cell_type": "code",
   "execution_count": 147,
   "metadata": {},
   "outputs": [
    {
     "name": "stdout",
     "output_type": "stream",
     "text": [
      "False\n",
      "True\n"
     ]
    }
   ],
   "source": [
    "def Isperfect(n):\n",
    "    sum=0\n",
    "    for i in range(1,n):\n",
    "        if n%i==0:\n",
    "            sum=sum+i\n",
    "    if sum==n:\n",
    "        return True\n",
    "    else:\n",
    "        return False\n",
    "print(Isperfect(3))\n",
    "print(Isperfect(6))"
   ]
  },
  {
   "cell_type": "markdown",
   "metadata": {},
   "source": [
    "# Problem 18:\n",
    "## Problem Statement\n",
    "Design a procedure calculate the maximum, minimum and average of N numbers\n",
    "\n",
    "## Constraints\n",
    "range is[1,1000]\n",
    "\n",
    "## Test Cases\n",
    "data( a[1,2,3,4,5] ) -> Max = 5, Min = 1, Avg = 3"
   ]
  },
  {
   "cell_type": "code",
   "execution_count": 148,
   "metadata": {
    "scrolled": true
   },
   "outputs": [
    {
     "name": "stdout",
     "output_type": "stream",
     "text": [
      "max =  5\n",
      "min =  1\n",
      "avg = 3\n"
     ]
    }
   ],
   "source": [
    "def data(a):\n",
    "    max=a[1]\n",
    "    min=a[1]\n",
    "    sum=0\n",
    "    for i in range(0,len(a)):\n",
    "        if a[i]>max:\n",
    "            max=a[i]\n",
    "        if a[i]<min:\n",
    "            min=a[i]\n",
    "        sum=sum+a[i]\n",
    "    print(\"max = \",max) \n",
    "    print(\"min = \",min)\n",
    "    avg=int(sum/i)\n",
    "    return avg\n",
    "print(\"avg =\",data(a=[1,2,3,4,5]))"
   ]
  },
  {
   "cell_type": "markdown",
   "metadata": {},
   "source": [
    "# Problem 19:"
   ]
  }
 ],
 "metadata": {
  "kernelspec": {
   "display_name": "Python 3",
   "language": "python",
   "name": "python3"
  },
  "language_info": {
   "codemirror_mode": {
    "name": "ipython",
    "version": 3
   },
   "file_extension": ".py",
   "mimetype": "text/x-python",
   "name": "python",
   "nbconvert_exporter": "python",
   "pygments_lexer": "ipython3",
   "version": "3.7.3"
  }
 },
 "nbformat": 4,
 "nbformat_minor": 2
}
