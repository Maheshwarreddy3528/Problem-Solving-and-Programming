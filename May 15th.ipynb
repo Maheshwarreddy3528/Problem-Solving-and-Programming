{
 "cells": [
  {
   "cell_type": "markdown",
   "metadata": {},
   "source": [
    "# Problem Solving and Programming\n",
    "### Day No-12\n",
    "### Date-15/5/19\n",
    "\n",
    "### Day Objectives\n",
    "* packages and Modules\n",
    "* Regular Expressions\n",
    "* learn about Iterators and Generators"
   ]
  },
  {
   "cell_type": "markdown",
   "metadata": {},
   "source": [
    "### Packages and Modules\n",
    "\n",
    "Package - collection of Python Scripts ( .py )\n",
    "\n",
    "Maodule - A python Script"
   ]
  },
  {
   "cell_type": "code",
   "execution_count": 42,
   "metadata": {},
   "outputs": [
    {
     "name": "stdout",
     "output_type": "stream",
     "text": [
      "120\n",
      "55\n"
     ]
    }
   ],
   "source": [
    "from PythonNotebooks.Test import *\n",
    "print(fact(5))\n",
    "\n",
    "print(sums(10))"
   ]
  },
  {
   "cell_type": "code",
   "execution_count": null,
   "metadata": {},
   "outputs": [],
   "source": []
  },
  {
   "cell_type": "code",
   "execution_count": 1,
   "metadata": {},
   "outputs": [
    {
     "data": {
      "text/plain": [
       "'Pto'"
      ]
     },
     "execution_count": 1,
     "metadata": {},
     "output_type": "execute_result"
    }
   ],
   "source": [
    "from pythonscripts.string import alternate as a\n",
    "a('Python')"
   ]
  },
  {
   "cell_type": "code",
   "execution_count": null,
   "metadata": {},
   "outputs": [],
   "source": []
  },
  {
   "cell_type": "code",
   "execution_count": 2,
   "metadata": {},
   "outputs": [
    {
     "data": {
      "text/plain": [
       "'nohtyP'"
      ]
     },
     "execution_count": 2,
     "metadata": {},
     "output_type": "execute_result"
    }
   ],
   "source": [
    "from pythonscripts.string import reverse as r\n",
    "r('Python')"
   ]
  },
  {
   "cell_type": "markdown",
   "metadata": {},
   "source": [
    "### Regular Expressions\n",
    "A set of all possible values that satisfy a given a pattern\n",
    "\n",
    "0123456789\n",
    "[0-9]\n",
    "[a-z]\n",
    "[A-Z]\n",
    "\n",
    "\n",
    "validate a postal code\n",
    "500001, 203456 true\n",
    "050101 false\n",
    "\n",
    "password Validation\n",
    "\n",
    "    Password Validation\n",
    "    \n",
    "* should contain atleast one uppercase letter\n",
    "* length in the range (6,21)\n",
    "* should contain atleast one special character\n",
    "* should start with and uppercase or lowercase\n",
    "* should contain atleast one digit\n",
    "\n",
    "\n",
    "    password strength"
   ]
  },
  {
   "cell_type": "code",
   "execution_count": 50,
   "metadata": {},
   "outputs": [
    {
     "name": "stdout",
     "output_type": "stream",
     "text": [
      "Match\n"
     ]
    }
   ],
   "source": [
    "import re\n",
    "pattern = '^gmail$'\n",
    "domain = 'gmail'\n",
    "if re.match(pattern, domain):\n",
    "    print('Match') \n",
    "else:\n",
    "    print('Does not Match')"
   ]
  },
  {
   "cell_type": "code",
   "execution_count": 52,
   "metadata": {},
   "outputs": [
    {
     "name": "stdout",
     "output_type": "stream",
     "text": [
      "Match\n"
     ]
    }
   ],
   "source": [
    "import re\n",
    "pattern = '^[a-z]$'\n",
    "domain = 'g'\n",
    "if re.match(pattern, domain):\n",
    "    print('Match') \n",
    "else:\n",
    "    print('Does not Match')"
   ]
  },
  {
   "cell_type": "code",
   "execution_count": 55,
   "metadata": {},
   "outputs": [
    {
     "name": "stdout",
     "output_type": "stream",
     "text": [
      "Match\n"
     ]
    }
   ],
   "source": [
    "import re\n",
    "pattern = '^[a-z]{2}$'\n",
    "domain = 'zg'\n",
    "if re.match(pattern, domain):\n",
    "    print('Match') \n",
    "else:\n",
    "    print('Does not Match')"
   ]
  },
  {
   "cell_type": "code",
   "execution_count": 57,
   "metadata": {},
   "outputs": [
    {
     "name": "stdout",
     "output_type": "stream",
     "text": [
      "Match\n"
     ]
    }
   ],
   "source": [
    "import re\n",
    "pattern = '^[a-z]{3,9}$'\n",
    "domain = 'gmailmail'\n",
    "if re.match(pattern, domain):\n",
    "    print('Match') \n",
    "else:\n",
    "    print('Does not Match')"
   ]
  },
  {
   "cell_type": "code",
   "execution_count": 59,
   "metadata": {},
   "outputs": [
    {
     "name": "stdout",
     "output_type": "stream",
     "text": [
      "Match\n"
     ]
    }
   ],
   "source": [
    "import re\n",
    "postalcodepattern = '^[1-9][0-9]{5}$'\n",
    "domain = '500001'\n",
    "if re.match(postalcodepattern, domain):\n",
    "    print('Match') \n",
    "else:\n",
    "    print('Does not Match')"
   ]
  },
  {
   "cell_type": "code",
   "execution_count": 65,
   "metadata": {},
   "outputs": [
    {
     "name": "stdout",
     "output_type": "stream",
     "text": [
      "Match\n"
     ]
    }
   ],
   "source": [
    "import re\n",
    "phonenumberpattern1 = '^[6-9][0-9]{9}$'\n",
    "ph = '7545454548'\n",
    "if re.match(phonenumberpattern1, ph):\n",
    "    print('Match') \n",
    "else:\n",
    "    print('Does not Match')"
   ]
  },
  {
   "cell_type": "code",
   "execution_count": null,
   "metadata": {},
   "outputs": [],
   "source": []
  }
 ],
 "metadata": {
  "kernelspec": {
   "display_name": "Python 3",
   "language": "python",
   "name": "python3"
  },
  "language_info": {
   "codemirror_mode": {
    "name": "ipython",
    "version": 3
   },
   "file_extension": ".py",
   "mimetype": "text/x-python",
   "name": "python",
   "nbconvert_exporter": "python",
   "pygments_lexer": "ipython3",
   "version": "3.7.3"
  }
 },
 "nbformat": 4,
 "nbformat_minor": 2
}
