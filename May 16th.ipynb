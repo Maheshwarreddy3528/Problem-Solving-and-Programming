{
 "cells": [
  {
   "cell_type": "markdown",
   "metadata": {},
   "source": [
    "# Problem Solving and Programming\n",
    "## Day No-13\n",
    "## Date-16/5/19\n",
    "### Day Objectives¶\n",
    "* File Handling \n",
    "* External\n",
    "* Functional Programming\n",
    "\n",
    "# Problem 1:\n",
    "## Problem Statement\n",
    "Define a function to read data from a text file\n",
    "\n",
    "## Constraints\n",
    "\n",
    "## Test Cases\n",
    "* \n",
    "* \n",
    "* "
   ]
  },
  {
   "cell_type": "code",
   "execution_count": 5,
   "metadata": {},
   "outputs": [
    {
     "data": {
      "text/plain": [
       "'Data in line 1\\nData in line 2\\n'"
      ]
     },
     "execution_count": 5,
     "metadata": {},
     "output_type": "execute_result"
    }
   ],
   "source": [
    "def readFileData(filename):\n",
    "    f=open(filename,'r')\n",
    "    filedata = f.readline()\n",
    "    filedata += f.readline()\n",
    "    f.close()\n",
    "    return filedata\n",
    "\n",
    "readFileData('DataFiles/data.txt')"
   ]
  },
  {
   "cell_type": "code",
   "execution_count": 6,
   "metadata": {},
   "outputs": [
    {
     "data": {
      "text/plain": [
       "'Data in line 1\\nData in line 2\\nData in line 3\\nData in line 4'"
      ]
     },
     "execution_count": 6,
     "metadata": {},
     "output_type": "execute_result"
    }
   ],
   "source": [
    "def readFileData(filename):\n",
    "    f=open(filename,'r')\n",
    "    filedata = f.read()\n",
    "    f.close()\n",
    "    return filedata\n",
    "\n",
    "readFileData('DataFiles/data.txt')"
   ]
  },
  {
   "cell_type": "code",
   "execution_count": 8,
   "metadata": {},
   "outputs": [
    {
     "data": {
      "text/plain": [
       "'Data in line 1\\n'"
      ]
     },
     "execution_count": 8,
     "metadata": {},
     "output_type": "execute_result"
    }
   ],
   "source": [
    "def readFileData(filename):\n",
    "    with open(filename,'r') as f:\n",
    "        filedata = f.readline()\n",
    "    \n",
    "    return filedata\n",
    "\n",
    "readFileData('DataFiles/data.txt')"
   ]
  },
  {
   "cell_type": "code",
   "execution_count": 9,
   "metadata": {},
   "outputs": [
    {
     "name": "stdout",
     "output_type": "stream",
     "text": [
      "Data in line 1\n",
      "\n",
      "Data in line 2\n",
      "\n",
      "Data in line 3\n",
      "\n",
      "Data in line 4\n"
     ]
    }
   ],
   "source": [
    "def readFileData(filename):\n",
    "    with open(filename,'r') as f:\n",
    "        for line in f:\n",
    "            print(line)\n",
    "    return\n",
    "\n",
    "readFileData('DataFiles/data.txt')"
   ]
  },
  {
   "cell_type": "code",
   "execution_count": 10,
   "metadata": {},
   "outputs": [
    {
     "name": "stdout",
     "output_type": "stream",
     "text": [
      "Data in line 1\n",
      "Data in line 2\n",
      "Data in line 3\n",
      "Data in line 4"
     ]
    }
   ],
   "source": [
    "def readFileData(filename):\n",
    "    with open(filename,'r') as f:\n",
    "        for line in f:\n",
    "            print(line, end = '')\n",
    "    return\n",
    "\n",
    "readFileData('DataFiles/data.txt')"
   ]
  },
  {
   "cell_type": "code",
   "execution_count": 11,
   "metadata": {},
   "outputs": [
    {
     "name": "stdout",
     "output_type": "stream",
     "text": [
      "Data in line 1\n",
      "Data in line 2\n",
      "Data in line 3\n",
      "Data in line 4\n"
     ]
    }
   ],
   "source": [
    "def readFileData(filename):\n",
    "    with open(filename,'r') as f:\n",
    "        # for line in f:\n",
    "         #    print(line, end = '')\n",
    "            print(f.read())\n",
    "    return\n",
    "\n",
    "readFileData('DataFiles/data.txt')"
   ]
  },
  {
   "cell_type": "code",
   "execution_count": 19,
   "metadata": {},
   "outputs": [],
   "source": [
    "def readFileData(filename):\n",
    "    with open(filename,'r') as f:\n",
    "        # for line in f:\n",
    "         #    print(line, end = '')\n",
    "            print(f.read())\n",
    "    return\n",
    "\n",
    "\n",
    "def writeIntoFile(filename, data):\n",
    "    with open(filename, 'w') as f:\n",
    "        f.write(data)\n",
    "    return    \n",
    "\n",
    "writeIntoFile('DataFiles/fileWrite.txt','data written into fileWrite')"
   ]
  },
  {
   "cell_type": "code",
   "execution_count": 30,
   "metadata": {},
   "outputs": [],
   "source": [
    "def readFileData(filename):\n",
    "    with open(filename,'r') as f:\n",
    "        # for line in f:\n",
    "         #    print(line, end = '')\n",
    "            print(f.read())\n",
    "    return\n",
    "\n",
    "\n",
    "def writeIntoFile(filename, data, mode):\n",
    "    with open(filename, mode) as f:\n",
    "        f.write(data)\n",
    "    return    \n",
    "\n",
    "writeIntoFile('DataFiles/fileWrite.txt','third line \\n', 'a')"
   ]
  },
  {
   "cell_type": "markdown",
   "metadata": {},
   "source": [
    "# Problem 2:\n",
    "## Problem Statement\n",
    "Define a function to generate a marks data file(text)for 1300 students such that each mark is entered in a new line. Marks\n",
    "range from 0 to 100 (inclusive) as random number\n",
    "\n",
    "## Constraints\n",
    "\n",
    "## Test Cases¶\n",
    "* \n",
    "* \n",
    "* "
   ]
  },
  {
   "cell_type": "code",
   "execution_count": 39,
   "metadata": {},
   "outputs": [],
   "source": [
    "from random import randrange as k\n",
    "def GenerateMarksData(filename, mode):\n",
    "    for i in range(0,1300):\n",
    "         with open(filename, mode) as f:\n",
    "            f.write(str(k(0,101)))\n",
    "            f.write('\\n')\n",
    "    return    \n",
    "\n",
    "GenerateMarksData('DataFiles/markdata.txt', 'a')"
   ]
  },
  {
   "cell_type": "markdown",
   "metadata": {},
   "source": [
    "# Problem 3:\n",
    "## Problem Statement\n",
    "Generate a report on the marks data with the following indicators\n",
    "* Highest Mark :\n",
    "* Lowest Mark :\n",
    "* Average Mark :\n",
    "* No of students with distinction(>80) :\n",
    "* No of students with first class(>60) :\n",
    "* No of students with second class(>50) :\n",
    "* No of students with third class(>40) :\n",
    "* no of students falied(<40) :\n",
    "## Constraints\n",
    "\n",
    "## Test Cases¶\n",
    "* \n",
    "* \n",
    "* "
   ]
  },
  {
   "cell_type": "code",
   "execution_count": 46,
   "metadata": {},
   "outputs": [
    {
     "name": "stdout",
     "output_type": "stream",
     "text": [
      "Highest:  100\n",
      "Lowest:  0\n",
      "Average: 48\n",
      "Distiction :  154\n",
      "First class: 327\n",
      "Second class: 98\n",
      "Third class: 176\n",
      "Fail :  545\n"
     ]
    },
    {
     "data": {
      "text/plain": [
       "0.0035734649991354672"
      ]
     },
     "execution_count": 46,
     "metadata": {},
     "output_type": "execute_result"
    }
   ],
   "source": [
    "import timeit\n",
    "def readFileData(filename):\n",
    "    start=timeit.default_timer()\n",
    "    avg=0\n",
    "    count=0\n",
    "    sums=0\n",
    "    dist=0\n",
    "    first=0\n",
    "    second=0\n",
    "    third=0\n",
    "    fail=0\n",
    "    li=[]\n",
    "    with open(filename,'r') as f:\n",
    "        for line in f:\n",
    "            li.append(int(line))\n",
    "        \n",
    "        for i in li:\n",
    "            \n",
    "            if li[i]>=80 and li[i]<=100:\n",
    "                dist += 1\n",
    "            elif li[i]>=60 and li[i]<80 :\n",
    "                    first += 1\n",
    "            elif li[i]>=50 and li[i]<60:\n",
    "                second += 1 \n",
    "            elif li[i]>=40 and li[i]<50:\n",
    "                third += 1\n",
    "            elif li[i]<40 and li[i]>=0:\n",
    "                fail += 1\n",
    "    print(\"Highest: \",max(li))\n",
    "    print(\"Lowest: \",min(li))\n",
    "    print(\"Average:\",sum(li)//len(li))\n",
    "    print(\"Distiction : \",dist)\n",
    "    print(\"First class:\",first)\n",
    "    print(\"Second class:\",second)\n",
    "    print(\"Third class:\",third)\n",
    "    print(\"Fail : \",fail)\n",
    "    return timeit.default_timer()-start\n",
    "\n",
    "readFileData('DataFiles/Markdata.txt')"
   ]
  },
  {
   "cell_type": "code",
   "execution_count": null,
   "metadata": {},
   "outputs": [],
   "source": [
    "\n"
   ]
  }
 ],
 "metadata": {
  "kernelspec": {
   "display_name": "Python 3",
   "language": "python",
   "name": "python3"
  },
  "language_info": {
   "codemirror_mode": {
    "name": "ipython",
    "version": 3
   },
   "file_extension": ".py",
   "mimetype": "text/x-python",
   "name": "python",
   "nbconvert_exporter": "python",
   "pygments_lexer": "ipython3",
   "version": "3.7.3"
  }
 },
 "nbformat": 4,
 "nbformat_minor": 2
}
