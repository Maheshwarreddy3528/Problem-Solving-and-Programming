{
 "cells": [
  {
   "cell_type": "markdown",
   "metadata": {},
   "source": [
    "# Problem Solving And Programming\n",
    "\n",
    "## Day No-7\n",
    "\n",
    "## Date-10/5/19\n",
    "\n",
    "### Day Outcomes\n",
    "* 1.Practicing Python Syntax in the Interactive Shell Print Function - print() Variable Assignment(Single Variable, Multiple Variables) Getting the Data Types using type() String Slicing Lists Tuples Dictionaries Reading input from user\n",
    "* 2.Jupyter Notebooks Overview, Architecture Standard Template Markdown Syntax \n",
    "* 3.Problem Set Data Processing"
   ]
  },
  {
   "cell_type": "markdown",
   "metadata": {},
   "source": [
    "# Problem 1:\n",
    "\n",
    "## Problem Statement\n",
    "Design a function to print the first n prime numbers\n",
    "\n",
    "## Constraints\n",
    "range is [1,1000]\n",
    "\n",
    "## Test Cases\n",
    "* prime(5)->2,3,5,7,11\n",
    "* prime(8)->2,3,5,7,11,13,17,23"
   ]
  },
  {
   "cell_type": "code",
   "execution_count": 5,
   "metadata": {},
   "outputs": [
    {
     "name": "stdout",
     "output_type": "stream",
     "text": [
      "2\n",
      "3\n",
      "5\n",
      "7\n",
      "11\n",
      "-------\n",
      "2\n",
      "3\n",
      "5\n",
      "7\n",
      "11\n",
      "13\n",
      "17\n",
      "19\n",
      "-------\n"
     ]
    }
   ],
   "source": [
    "def prime(n):\n",
    "    count=0\n",
    "    i=0\n",
    "    while count!=n:\n",
    "        sums=0\n",
    "        i=i+1\n",
    "        for j in range(1,i+1):\n",
    "            if i%j==0:\n",
    "                sums = sums + 1\n",
    "                \n",
    "        if sums==2:\n",
    "            count = count + 1\n",
    "            print(i)\n",
    "    return \"-------\"\n",
    "print(prime(5))\n",
    "print(prime(8))"
   ]
  },
  {
   "cell_type": "markdown",
   "metadata": {},
   "source": [
    "# RECURSION\n",
    "\n",
    "\n",
    "# Problem 2:\n",
    "\n",
    "## Problem Statement\n",
    "solve the problems in power of a number using recursion\n",
    "\n",
    "## Constraints\n",
    "range is [1,1000]\n",
    "\n",
    "## Test Cases\n",
    "recursivepower(2,7)"
   ]
  },
  {
   "cell_type": "code",
   "execution_count": 3,
   "metadata": {},
   "outputs": [
    {
     "data": {
      "text/plain": [
       "95367431640625"
      ]
     },
     "execution_count": 3,
     "metadata": {},
     "output_type": "execute_result"
    }
   ],
   "source": [
    "def power(n, r):\n",
    "    prod = 1\n",
    "    for i in range(1, r+1):\n",
    "        prod *= n\n",
    "    return prod\n",
    "\n",
    "power(5,20)"
   ]
  },
  {
   "cell_type": "code",
   "execution_count": 4,
   "metadata": {},
   "outputs": [
    {
     "data": {
      "text/plain": [
       "256"
      ]
     },
     "execution_count": 4,
     "metadata": {},
     "output_type": "execute_result"
    }
   ],
   "source": [
    "def recursivepower(n,r):\n",
    "    if r==1:\n",
    "        return n\n",
    "    else:\n",
    "        return recursivepower(n, r-1) * n\n",
    "    \n",
    "recursivepower(2,8)    "
   ]
  },
  {
   "cell_type": "markdown",
   "metadata": {},
   "source": [
    "# Problem 3:\n",
    "## Problem Statement\n",
    "solve the problems in factorial of a number using recursion\n",
    "\n",
    "## Constraints\n",
    "range is [1,100]\n",
    "\n",
    "## Test Cases\n",
    "fact(6)"
   ]
  },
  {
   "cell_type": "code",
   "execution_count": 8,
   "metadata": {},
   "outputs": [
    {
     "data": {
      "text/plain": [
       "720"
      ]
     },
     "execution_count": 8,
     "metadata": {},
     "output_type": "execute_result"
    }
   ],
   "source": [
    "def fact(n):\n",
    "    if n==1:\n",
    "        return n\n",
    "    else:\n",
    "        return (n)*fact(n-1)\n",
    "    \n",
    "fact(6)    \n",
    "    "
   ]
  },
  {
   "cell_type": "markdown",
   "metadata": {},
   "source": [
    "# Problem 4:\n",
    "## Problem Statement\n",
    "solve the problems in GCD using recursive numbers\n",
    "\n",
    "## Constraints\n",
    "range is [1,1000]\n",
    "\n",
    "## Test Cases\n",
    "gcd(45,68)"
   ]
  },
  {
   "cell_type": "code",
   "execution_count": null,
   "metadata": {},
   "outputs": [],
   "source": [
    "def gcdrecursive(a, b):\n",
    "    if b % a ==0:\n",
    "        return a\n",
    "    else:\n",
    "        return gcdrecursive(b % a, a)\n",
    "    \n",
    "gcdrecursive(45,68)    \n",
    "    "
   ]
  },
  {
   "cell_type": "markdown",
   "metadata": {},
   "source": [
    "# Problem 5:\n",
    "## Problem Statement\n",
    "solve the problems in GCD using iterative\n",
    "\n",
    "## Constraints\n",
    "range is [1,1000]\n",
    "\n",
    "## Test Cases\n",
    "gcd(35,54)"
   ]
  },
  {
   "cell_type": "code",
   "execution_count": 10,
   "metadata": {},
   "outputs": [
    {
     "data": {
      "text/plain": [
       "1"
      ]
     },
     "execution_count": 10,
     "metadata": {},
     "output_type": "execute_result"
    }
   ],
   "source": [
    "def gcditerative(a, b):\n",
    "    \n",
    "    r=b%a\n",
    "    if(r==0):\n",
    "        return a\n",
    "    while r!=0:\n",
    "        r=b%a\n",
    "        b=a\n",
    "        a=r\n",
    "        \n",
    "    return b\n",
    "\n",
    "gcditerative(35,54)"
   ]
  },
  {
   "cell_type": "markdown",
   "metadata": {},
   "source": [
    "# Problem 6:\n",
    "## Problem Statement\n",
    "solve the problems using towers of hanoi\n",
    "\n",
    "## Constraints\n",
    "range is [1,1000]\n",
    "\n",
    "## Text Cases\n"
   ]
  },
  {
   "cell_type": "code",
   "execution_count": 13,
   "metadata": {},
   "outputs": [
    {
     "name": "stdout",
     "output_type": "stream",
     "text": [
      "Move 1 disk from A to C\n",
      "Move 2 disk from A to B\n",
      "Move 1 disk from A to C\n",
      "Move 3 disk from A to C\n",
      "Move 1 disk from A to C\n",
      "Move 2 disk from A to B\n",
      "Move 1 disk from A to C\n"
     ]
    }
   ],
   "source": [
    "def towerOfHanoi(n, source, temp, dest):\n",
    "    if n ==1:\n",
    "        print('Move', n, 'disk from', source, 'to', dest)\n",
    "        return\n",
    "    else:\n",
    "        towerOfHanoi(n-1, source, dest, temp)\n",
    "        print('Move', n, 'disk from', source, 'to', dest)\n",
    "        towerOfHanoi(n-1, source, dest, temp)\n",
    "        return\n",
    "    \n",
    "towerOfHanoi(3, 'A', 'B', 'C')    "
   ]
  },
  {
   "cell_type": "markdown",
   "metadata": {},
   "source": [
    "# Problem 7:\n",
    "## Problem Statement\n",
    "solve the problems To Generate nth Fibonacci number\n",
    "\n",
    "## Constraints\n",
    "range is[1,1000]\n",
    "\n",
    "## Test Cases\n"
   ]
  },
  {
   "cell_type": "code",
   "execution_count": 3,
   "metadata": {},
   "outputs": [
    {
     "data": {
      "text/plain": [
       "5"
      ]
     },
     "execution_count": 3,
     "metadata": {},
     "output_type": "execute_result"
    }
   ],
   "source": [
    "def fibonacii(n):\n",
    "    if n<0:\n",
    "        print(\"enter valid input.\")\n",
    "        return -1\n",
    "    elif n == 1:\n",
    "        return 0\n",
    "    elif n == 2:\n",
    "        return 1\n",
    "    else:\n",
    "        return fibonacii(n-1) + fibonacii(n-2)\n",
    "    \n",
    "fibonacii(6)  "
   ]
  },
  {
   "cell_type": "markdown",
   "metadata": {},
   "source": [
    "# Problem 7 :\n",
    "## Problem Statement: Define a function to identity the number of times a substring is repeating in a given string\n",
    "\n",
    "## Constraints : --------\n",
    "\n",
    "## Test Cases:\n",
    "* substringCount('str', 'substr') -> 1\n",
    "* substringCount('1234567891122334455', '3') -> 3\n",
    "* substringCount('abccddccc', 'cc') -> 3\n",
    "* substringCount('aaaaaaa', 'aaa' ) -> 5\n"
   ]
  },
  {
   "cell_type": "code",
   "execution_count": 2,
   "metadata": {},
   "outputs": [
    {
     "data": {
      "text/plain": [
       "5"
      ]
     },
     "execution_count": 2,
     "metadata": {},
     "output_type": "execute_result"
    }
   ],
   "source": [
    "def substringCount(a,key):\n",
    "    count=0\n",
    "    l=len(key)\n",
    "    for i in range (0,len(a)-len(key)+1):\n",
    "        if a[i:l]==key:\n",
    "            count+=1\n",
    "        l+=1\n",
    "    return count\n",
    "substringCount('substr', 'str')\n",
    "substringCount('1234567891122334455', '3') \n",
    "substringCount('abccddccc', 'cc') \n",
    "substringCount('aaaaaaa', 'aaa' )\n"
   ]
  },
  {
   "cell_type": "markdown",
   "metadata": {},
   "source": [
    "# Problem 8 :\n",
    "## Problem Statement:\n",
    "Define a function to merge the characters of two strings alternatively. The remaining characters of the longer string are printed in the same order at the end.\n",
    "\n",
    "## Constraints : --------\n",
    "\n",
    "## Test Cases:\n",
    "* mergeString('abcd', 'abcd') -> 'aabbccdd'\n",
    "* mergeString('abc', '123456') -> 'a1b2c3456'\n",
    "* mergeString('0', '123456') -> '0123456'"
   ]
  },
  {
   "cell_type": "code",
   "execution_count": 3,
   "metadata": {},
   "outputs": [
    {
     "name": "stdout",
     "output_type": "stream",
     "text": [
      "aabbccdd\n",
      "a1b2c3456\n",
      "0123456\n"
     ]
    }
   ],
   "source": [
    "def mergeString(a,b):\n",
    "    i = len(a)\n",
    "    j = len(b)\n",
    "    s=''\n",
    "    if i>j:\n",
    "        k = len(b)\n",
    "    elif i==j:\n",
    "        k = len(a)\n",
    "    else:\n",
    "        k =len(a)\n",
    "    for l in range(k):\n",
    "        s += a[l] + b[l]\n",
    "    if i>j:\n",
    "        for l in range(j,i):\n",
    "            s += a[l]\n",
    "    elif i<j:\n",
    "        for l in range(i,j):\n",
    "            s += b[l]\n",
    "    return s\n",
    "        \n",
    "print(mergeString('abcd', 'abcd'))\n",
    "print(mergeString('abc', '123456'))\n",
    "print(mergeString('0', '123456'))"
   ]
  },
  {
   "cell_type": "code",
   "execution_count": null,
   "metadata": {},
   "outputs": [],
   "source": []
  }
 ],
 "metadata": {
  "kernelspec": {
   "display_name": "Python 3",
   "language": "python",
   "name": "python3"
  },
  "language_info": {
   "codemirror_mode": {
    "name": "ipython",
    "version": 3
   },
   "file_extension": ".py",
   "mimetype": "text/x-python",
   "name": "python",
   "nbconvert_exporter": "python",
   "pygments_lexer": "ipython3",
   "version": "3.7.3"
  }
 },
 "nbformat": 4,
 "nbformat_minor": 2
}
